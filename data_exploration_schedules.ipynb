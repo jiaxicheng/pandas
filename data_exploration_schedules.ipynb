{
 "cells": [
  {
   "cell_type": "markdown",
   "metadata": {},
   "source": [
    "<h1>Data Exploration Plan</h1>\n",
    "\n",
    "The following lists some of the common steps in data exploration with Python and Pandas\n",
    "\n",
    "\n",
    "\n",
    "<h3> Step-1: Load the necessary modules:</h3>"
   ]
  },
  {
   "cell_type": "code",
   "execution_count": null,
   "metadata": {},
   "outputs": [],
   "source": [
    "import pandas as pd\n",
    "import numpy as np\n",
    "import matplotlib.pyplot as plt"
   ]
  },
  {
   "cell_type": "markdown",
   "metadata": {},
   "source": [
    "<h3>Step-2: Load Files</h3>"
   ]
  },
  {
   "cell_type": "code",
   "execution_count": null,
   "metadata": {},
   "outputs": [],
   "source": [
    "# for plain text which can split by patterns\n",
    "df = pd.load_table('/path/to/file_name.txt', sep='\\s*\\|\\s*', engine='python', na_values=['NA', 'EMPTY'])\n",
    "# for CSV file\n",
    "df = pd.load_csv('/path/to/file_name.txt', index_col=['Year', 'Month'])\n",
    "# for fixed-width text file\n",
    "df = pd.load_fws('/path/to/file_name.txt', widths=[10,20,3,30,2])\n",
    "# parquet files\n",
    "df = pd.read_parquet('/path/to/file.parquet', engine='pyarrow')"
   ]
  },
  {
   "cell_type": "markdown",
   "metadata": {},
   "source": [
    "<h3>Step-3: Check Basic Data information</h3>"
   ]
  },
  {
   "cell_type": "code",
   "execution_count": null,
   "metadata": {},
   "outputs": [],
   "source": [
    "# dimensions\n",
    "df.shape\n",
    "# data types per each columns, indexes\n",
    "df.info()\n",
    "# major descriptive statistics: object(count, unique, top, freq), numbers(first,last,mean,std,min,percentiles,max)\n",
    "df.describe(include='all')"
   ]
  },
  {
   "cell_type": "markdown",
   "metadata": {},
   "source": [
    "<h3>Step-4: Check missing data</h3>"
   ]
  },
  {
   "cell_type": "code",
   "execution_count": null,
   "metadata": {},
   "outputs": [],
   "source": [
    "# total number of Null per columns\n",
    "df.isnull().sum()\n",
    "# percentage NaN per columns\n",
    "df.isnull().apply(lambda x: '{0:.0f}%'.format(sum(x)/len(x)*100))  \n",
    "# drop columns \n",
    "df.dropna(thresh=N)       "
   ]
  },
  {
   "cell_type": "markdown",
   "metadata": {},
   "source": [
    "<h3>Step-5: for dtypes=object </h3>"
   ]
  },
  {
   "cell_type": "code",
   "execution_count": null,
   "metadata": {},
   "outputs": [],
   "source": [
    "# how many unique\n",
    "df.col1.unique().size/d1.col1.size"
   ]
  },
  {
   "cell_type": "markdown",
   "metadata": {},
   "source": [
    "<h3>Step-6: for dtypes in (int, float)</h3>"
   ]
  },
  {
   "cell_type": "code",
   "execution_count": null,
   "metadata": {},
   "outputs": [],
   "source": [
    "# convert string field to to int if needed\n",
    "for field in ['f1', 'f2']\n",
    "df[field] = pd.to_numeric(df[field], errors='coerce')\n",
    "\n",
    "# correlation default method=’pearson’\n",
    "df.corr()\n",
    "\n",
    "# scatter_matrix\n",
    "pd.plotting.scatter_matrix(df,figsize=(15,15),diagonal('kde'))\n",
    "plt.show()\n",
    "\n",
    "# heatmap\n",
    "corr = df.corr()\n",
    "plt.imshow(corr, cmap='hot', interpolation='none')\n",
    "plt.colorbar()\n",
    "plt.show()\n",
    "\n",
    "# scatter\n",
    "plt.scatter(df1.mean(), df1.std(), s=120, c=’green’)\n",
    "\n",
    "# boxplot\n",
    "df.plot(kind='box')       ← percentile, range etc\n"
   ]
  },
  {
   "cell_type": "markdown",
   "metadata": {},
   "source": [
    "<h3>Step-7: for DateTime field</h3>"
   ]
  },
  {
   "cell_type": "code",
   "execution_count": null,
   "metadata": {},
   "outputs": [],
   "source": [
    "# convert to the formal datetime\n",
    "for field in ['dfield1', 'dfield1']:\n",
    "    df[field] = pd.to_datetime(df[field], format='%m/%d/%Y')\n",
    "\n",
    "# for a time series, using reindex can easily find the missing data which labelled NaN by default\n",
    "# make sure the datefield is set as index and no duplicate\n",
    "myindex = pd.date_range('2017-01-01', '2017-03-01', freq='D')\n",
    "mydf.set_index('date_field').reindex(myindex)"
   ]
  }
 ],
 "metadata": {
  "celltoolbar": "Raw Cell Format",
  "kernelspec": {
   "display_name": "Python 3",
   "language": "python",
   "name": "python3"
  },
  "language_info": {
   "codemirror_mode": {
    "name": "ipython",
    "version": 3
   },
   "file_extension": ".py",
   "mimetype": "text/x-python",
   "name": "python",
   "nbconvert_exporter": "python",
   "pygments_lexer": "ipython3",
   "version": "3.6.4"
  }
 },
 "nbformat": 4,
 "nbformat_minor": 2
}
